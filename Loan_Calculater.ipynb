{
  "nbformat": 4,
  "nbformat_minor": 0,
  "metadata": {
    "colab": {
      "provenance": []
    },
    "kernelspec": {
      "name": "python3",
      "display_name": "Python 3"
    },
    "language_info": {
      "name": "python"
    }
  },
  "cells": [
    {
      "cell_type": "code",
      "source": [
        "def get_user_info():\n",
        "    print(\"Welcome to CashStorm Bank💥\")\n",
        "\n",
        "    name = input(\"Enter your name: \")\n",
        "    age = int(input(\"Enter your age: \"))\n",
        "    material = input(\"Are you married or single? \").lower()\n",
        "\n",
        "    if material == \"married\":\n",
        "        partner = float(input(\"Enter your partner salary: €\"))\n",
        "        kids = int(input(\"Enter the number of kids: \"))\n",
        "    else:\n",
        "        print(\"okay lets continue!\")\n",
        "        partner = 0\n",
        "        kids = 0\n",
        "\n",
        "    salary = float(input(\"Enter your salary: €\"))\n",
        "    expenses = float(input(\"Enter your monthly expenses: €\"))\n",
        "\n",
        "\n",
        "    return {\n",
        "        \"name\": name,\n",
        "        \"age\": age,\n",
        "        \"status\": material,\n",
        "        \"partner_salary\": partner,\n",
        "        \"kids\": kids,\n",
        "        \"salary\": salary,\n",
        "        \"expenses\": expenses\n",
        "    }\n",
        "\n",
        "def calculate_loan(info):\n",
        "    total_income = info[\"salary\"]\n",
        "    if info[\"status\"] == \"married\":\n",
        "        total_income += info[\"partner_salary\"]\n",
        "\n",
        "    child_cost = info[\"kids\"] * 200\n",
        "    available_money = total_income - info[\"expenses\"] - child_cost\n",
        "\n",
        "    if available_money <= 0:\n",
        "        return 0\n",
        "\n",
        "    emi_limit = available_money * 0.35\n",
        "    years = int(input(\"Loan repayment time in years: \"))\n",
        "    interest_rate = 6\n",
        "    monthly_rate = interest_rate / 100 / 12\n",
        "    total_months = years * 12\n",
        "\n",
        "    if monthly_rate == 0:\n",
        "        loan_amount = emi_limit * total_months\n",
        "    else:\n",
        "        loan_amount = emi_limit * ((1 + monthly_rate) ** total_months - 1) / (monthly_rate * (1 + monthly_rate) ** total_months)\n",
        "\n",
        "    if info[\"age\"] + years > 65:\n",
        "        return 0\n",
        "\n",
        "    return loan_amount\n",
        "\n",
        "def show_summary(info, loan_amount):\n",
        "    print(\"\\nLoan Summary 📝\")\n",
        "    print(f\"Name: {info['name']}\")\n",
        "    print(f\"Total Monthly Income: €{info['salary'] + info['partner_salary']}\")\n",
        "    print(f\"Number of Kids: {info['kids']}\")\n",
        "    print(f\"Monthly Expenses: €{info['expenses']}\")\n",
        "    print(f\"✅ Approved Loan Amount: €{loan_amount:,.2f}\")\n",
        "\n",
        "def loan_calculator():\n",
        "    info = get_user_info()\n",
        "    loan = calculate_loan(info)\n",
        "    if loan > 0:\n",
        "        show_summary(info, loan)\n",
        "    else:\n",
        "        print(\"Sorry... based on your details, we can’t approve the loan.\")\n",
        "\n",
        "loan_calculator()"
      ],
      "metadata": {
        "colab": {
          "base_uri": "https://localhost:8080/"
        },
        "id": "5BNGVtJCWzLQ",
        "outputId": "d3f82b12-563d-4de8-fe24-f77a42e6327b"
      },
      "execution_count": null,
      "outputs": [
        {
          "output_type": "stream",
          "name": "stdout",
          "text": [
            "Welcome to CashStorm Bank💥\n",
            "Enter your name: shakeel\n",
            "Enter your age: 45\n",
            "Are you married or single? married\n",
            "Enter your partner salary: €3000\n",
            "Enter the number of kids: 4\n",
            "Enter your salary: €2000\n",
            "Enter your monthly expenses: €2000\n",
            "Loan repayment time in years: 5\n",
            "\n",
            "Loan Summary 📝\n",
            "Name: shakeel\n",
            "Total Monthly Income: €5000.0\n",
            "Number of Kids: 4\n",
            "Monthly Expenses: €2000.0\n",
            "✅ Approved Loan Amount: €39,828.68\n"
          ]
        }
      ]
    },
    {
      "cell_type": "code",
      "source": [],
      "metadata": {
        "id": "XecYpa33W3wo"
      },
      "execution_count": null,
      "outputs": []
    }
  ]
}